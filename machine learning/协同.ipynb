{
 "cells": [
  {
   "cell_type": "code",
   "execution_count": 1,
   "metadata": {
    "collapsed": true
   },
   "outputs": [],
   "source": [
    "import numpy as np\n",
    "import os"
   ]
  },
  {
   "cell_type": "markdown",
   "metadata": {},
   "source": [
    "## 基于用户的"
   ]
  },
  {
   "cell_type": "code",
   "execution_count": 2,
   "metadata": {
    "collapsed": true
   },
   "outputs": [],
   "source": [
    "def readFile(filename):\n",
    "    #files = open(filename, \"r\", encoding=\"utf-8\")\n",
    "    # 如果读取不成功试一下\n",
    "    files = open(filename, \"r\", encoding=\"iso-8859-15\")\n",
    "    data = []\n",
    "    for line in files.readlines():\n",
    "        item = line.strip().split(\"::\")\n",
    "        data.append(item)\n",
    "    return data"
   ]
  },
  {
   "cell_type": "code",
   "execution_count": 3,
   "metadata": {
    "collapsed": true
   },
   "outputs": [],
   "source": [
    "basepath = r'D:\\jupyterworkplace\\Tutorials\\machine learning\\ml-1m\\ml-1m'"
   ]
  },
  {
   "cell_type": "code",
   "execution_count": 4,
   "metadata": {
    "collapsed": true
   },
   "outputs": [],
   "source": [
    "movies = readFile(os.path.join(basepath,\"movies.dat\"))\n",
    "ratings = readFile(os.path.join(basepath,\"ratings.dat\"))"
   ]
  },
  {
   "cell_type": "code",
   "execution_count": 5,
   "metadata": {},
   "outputs": [
    {
     "data": {
      "text/plain": [
       "[['1', 'Toy Story (1995)', \"Animation|Children's|Comedy\"],\n",
       " ['2', 'Jumanji (1995)', \"Adventure|Children's|Fantasy\"],\n",
       " ['3', 'Grumpier Old Men (1995)', 'Comedy|Romance'],\n",
       " ['4', 'Waiting to Exhale (1995)', 'Comedy|Drama'],\n",
       " ['5', 'Father of the Bride Part II (1995)', 'Comedy']]"
      ]
     },
     "execution_count": 5,
     "metadata": {},
     "output_type": "execute_result"
    }
   ],
   "source": [
    "#movies的数据格式\n",
    "movies[:5]"
   ]
  },
  {
   "cell_type": "code",
   "execution_count": 6,
   "metadata": {},
   "outputs": [
    {
     "data": {
      "text/plain": [
       "[['1', '1193', '5', '978300760'],\n",
       " ['1', '661', '3', '978302109'],\n",
       " ['1', '914', '3', '978301968'],\n",
       " ['1', '3408', '4', '978300275'],\n",
       " ['1', '2355', '5', '978824291']]"
      ]
     },
     "execution_count": 6,
     "metadata": {},
     "output_type": "execute_result"
    }
   ],
   "source": [
    "#rating的数据格式\n",
    "ratings[:5]"
   ]
  },
  {
   "cell_type": "code",
   "execution_count": 8,
   "metadata": {
    "collapsed": true
   },
   "outputs": [],
   "source": [
    "def formatRate(ratings):\n",
    "    userDict = {}\n",
    "    ItemUser = {}\n",
    "    for i in ratings:\n",
    "        # 评分最高为5 除以5 进行数据归一化\n",
    "        temp = (i[1], float(i[2]) / 5)\n",
    "        # 计算userDict {'1':[(1,5),(2,5)...],'2':[...]...}\n",
    "        if(i[0] in userDict):\n",
    "            userDict[i[0]].append(temp)\n",
    "        else:\n",
    "            userDict[i[0]] = [temp]\n",
    "        # 计算ItemUser {'1',[1,2,3..],...}\n",
    "        if(i[1] in ItemUser):\n",
    "            ItemUser[i[1]].append(i[0])\n",
    "        else:\n",
    "            ItemUser[i[1]] = [i[0]]\n",
    "    return userDict , ItemUser"
   ]
  },
  {
   "cell_type": "code",
   "execution_count": 9,
   "metadata": {},
   "outputs": [],
   "source": [
    "userDict , ItemUser = formatRate(ratings)"
   ]
  },
  {
   "cell_type": "code",
   "execution_count": 27,
   "metadata": {},
   "outputs": [
    {
     "data": {
      "text/plain": [
       "[('1250', 0.6), ('1185', 1.0), ('587', 0.4), ('2135', 0.8), ('1408', 0.6)]"
      ]
     },
     "execution_count": 27,
     "metadata": {},
     "output_type": "execute_result"
    }
   ],
   "source": [
    "#userDict是一个字典 包含每个用户评价的电影的信息\n",
    "#下面选取第67个用户所有评价的电影中的前5个（没有顺序之分）\n",
    "userDict['67'][:5]"
   ]
  },
  {
   "cell_type": "code",
   "execution_count": 29,
   "metadata": {},
   "outputs": [
    {
     "data": {
      "text/plain": [
       "['53', '163', '195', '223', '321']"
      ]
     },
     "execution_count": 29,
     "metadata": {},
     "output_type": "execute_result"
    }
   ],
   "source": [
    "#ItemUser也是一个字典 包含每部电影呗哪些用户评价过\n",
    "#下面选取第188部电影所有评价用户中的前5个（也没有顺序之分）\n",
    "ItemUser['188'][:5]"
   ]
  },
  {
   "cell_type": "code",
   "execution_count": 34,
   "metadata": {
    "collapsed": true
   },
   "outputs": [],
   "source": [
    "#计算两个用户之间的交并集合\n",
    "#返回的是字典 user \n",
    "# user = {movieID：[userId的评分，l的评分]}\n",
    "def formatuserDict(userId, l):\n",
    "    user = {}\n",
    "    for i in userDict[userId]:\n",
    "        user[i[0]] = [i[1], 0]\n",
    "    for j in userDict[l]:\n",
    "        if(j[0] not in user):\n",
    "            user[j[0]] = [0, j[1]]\n",
    "        else:\n",
    "            user[j[0]][1] = j[1]\n",
    "    return user"
   ]
  },
  {
   "cell_type": "code",
   "execution_count": 37,
   "metadata": {
    "collapsed": true
   },
   "outputs": [],
   "source": [
    "#计算用户1和2之间所评价的电影的关系\n",
    "user = formatuserDict('1','2')"
   ]
  },
  {
   "cell_type": "code",
   "execution_count": 40,
   "metadata": {
    "collapsed": true
   },
   "outputs": [],
   "source": [
    "#计算两个用户之间的相似度\n",
    "def getCost(userId, l):\n",
    "    # step1：获取用户userId和l评分电影的并集\n",
    "    # user={'电影ID'：[userId的评分，l的评分]} 没有评分为0\n",
    "    user = formatuserDict(userId, l)\n",
    "    x = 0.0\n",
    "    y = 0.0\n",
    "    z = 0.0\n",
    "    for k, v in user.items():\n",
    "        x += float(v[0]) * float(v[0])\n",
    "        y += float(v[1]) * float(v[1])\n",
    "        z += float(v[0]) * float(v[1])\n",
    "    if(z == 0.0):\n",
    "        return 0\n",
    "    return z / np.sqrt(x * y)"
   ]
  },
  {
   "cell_type": "code",
   "execution_count": 41,
   "metadata": {},
   "outputs": [
    {
     "data": {
      "text/plain": [
       "0.096381530497751625"
      ]
     },
     "execution_count": 41,
     "metadata": {},
     "output_type": "execute_result"
    }
   ],
   "source": [
    "getCost('1','2')"
   ]
  },
  {
   "cell_type": "code",
   "execution_count": 42,
   "metadata": {
    "collapsed": true
   },
   "outputs": [],
   "source": [
    "'''\n",
    "计算一个用户最相近的k个用户\n",
    "step1: 获取userId评分的电影都有那些用户也评过分（求一个并集的概念）\n",
    "step2：求所有用户的相似度 取前k个\n",
    "'''\n",
    "def getNearestNeighbor(userId,k):\n",
    "    userDict , ItemUser = formatRate(ratings)\n",
    "    neighbors = []\n",
    "    neighbors_dist = []\n",
    "    # 获取userId评分的电影都有那些用户也评过分\n",
    "    for i in userDict[userId]:\n",
    "        for j in ItemUser[i[0]]:\n",
    "            if(j != userId and j not in neighbors):\n",
    "                neighbors.append(j)\n",
    "    # 计算这些用户与userId的相似度并排序\n",
    "    for i in neighbors:\n",
    "        dist = getCost(userId, i)\n",
    "        neighbors_dist.append([dist, i])\n",
    "    # 排序默认是升序，reverse=True表示降序\n",
    "    neighbors_dist.sort(reverse=True)\n",
    "    neighbors_dist = neighbors_dist[:k]\n",
    "    return neighbors_dist"
   ]
  },
  {
   "cell_type": "code",
   "execution_count": 45,
   "metadata": {
    "collapsed": true
   },
   "outputs": [],
   "source": [
    "#获取用户ID1的最相似的5个用户的ID\n",
    "neighbors=getNearestNeighbor('1',5)"
   ]
  },
  {
   "cell_type": "code",
   "execution_count": 46,
   "metadata": {},
   "outputs": [
    {
     "data": {
      "text/plain": [
       "[[0.41211706435523543, '5343'],\n",
       " [0.41189862329150367, '5190'],\n",
       " [0.39211038220634808, '1481'],\n",
       " [0.38659663728150834, '1283'],\n",
       " [0.36089838113994654, '5705']]"
      ]
     },
     "execution_count": 46,
     "metadata": {},
     "output_type": "execute_result"
    }
   ],
   "source": [
    "neighbors"
   ]
  },
  {
   "cell_type": "code",
   "execution_count": 59,
   "metadata": {
    "collapsed": true
   },
   "outputs": [],
   "source": [
    "def getrecommandList(userId,k):\n",
    "    userDict , ItemUser = formatRate(ratings)\n",
    "    neighbors=getNearestNeighbor(userId,k)\n",
    "    n = len(userDict[userId])\n",
    "    recommandList = []\n",
    "    # 建立推荐字典\n",
    "    recommandDict = {}\n",
    "    #用户已近评价的电影\n",
    "    evaluated = []\n",
    "    for i in userDict[userId]:\n",
    "        evaluated.append(i[0])\n",
    "    for neighbor in neighbors:\n",
    "        movies = userDict[neighbor[1]]\n",
    "        for movie in movies:\n",
    "            if movie[0] not in evaluated:       \n",
    "                if(movie[0] in recommandDict):\n",
    "                    recommandDict[movie[0]] += neighbor[0]\n",
    "                else:\n",
    "                    recommandDict[movie[0]] = neighbor[0]\n",
    "    # 建立推荐列表\n",
    "    for key in recommandDict:\n",
    "        recommandList.append([recommandDict[key], key])\n",
    "    recommandList.sort(reverse=True)\n",
    "    recommandList = recommandList[:n]\n",
    "    return recommandList"
   ]
  },
  {
   "cell_type": "code",
   "execution_count": 60,
   "metadata": {
    "collapsed": true
   },
   "outputs": [],
   "source": [
    "recommand = getrecommandList('1',5)"
   ]
  },
  {
   "cell_type": "markdown",
   "metadata": {
    "collapsed": true
   },
   "source": [
    "## 基于物品的"
   ]
  },
  {
   "cell_type": "code",
   "execution_count": 11,
   "metadata": {},
   "outputs": [
    {
     "name": "stdout",
     "output_type": "stream",
     "text": [
      "3706 6040\n"
     ]
    }
   ],
   "source": [
    "print(len(ItemUser),len(userDict))"
   ]
  },
  {
   "cell_type": "code",
   "execution_count": 20,
   "metadata": {
    "collapsed": true
   },
   "outputs": [],
   "source": [
    "tongxian_matrix = np.zeros([3707,3707])"
   ]
  },
  {
   "cell_type": "code",
   "execution_count": 44,
   "metadata": {},
   "outputs": [],
   "source": [
    "for i in range(1,3707):\n",
    "    for j in range(1,3707):\n",
    "        if i==j:\n",
    "            continue\n",
    "        if j>i:\n",
    "            count = len( set( ItemUser.get(str(i),0) if ItemUser.get(str(i),0) else []) & \n",
    "                       set( ItemUser.get(str(j),0) if ItemUser.get(str(j),0) else []))\n",
    "            tongxian_matrix[i][j] = count\n",
    "        else:\n",
    "            tongxian_matrix[i][j] = tongxian_matrix[j][i]       "
   ]
  },
  {
   "cell_type": "code",
   "execution_count": 46,
   "metadata": {},
   "outputs": [
    {
     "data": {
      "text/plain": [
       "array([[   0.,    0.,    0., ...,    0.,    0.,    0.],\n",
       "       [   0.,    0.,  491., ...,  396.,  225.,  231.],\n",
       "       [   0.,  491.,    0., ...,  237.,  163.,  129.],\n",
       "       ..., \n",
       "       [   0.,  396.,  237., ...,    0.,  167.,  187.],\n",
       "       [   0.,  225.,  163., ...,  167.,    0.,   99.],\n",
       "       [   0.,  231.,  129., ...,  187.,   99.,    0.]])"
      ]
     },
     "execution_count": 46,
     "metadata": {},
     "output_type": "execute_result"
    }
   ],
   "source": [
    "tongxian_matrix"
   ]
  },
  {
   "cell_type": "code",
   "execution_count": 47,
   "metadata": {
    "collapsed": true
   },
   "outputs": [],
   "source": [
    "#去除0行0列的值\n",
    "tongxian_array = tongxian_matrix[1:,1:]"
   ]
  },
  {
   "cell_type": "code",
   "execution_count": 48,
   "metadata": {},
   "outputs": [
    {
     "data": {
      "text/plain": [
       "array([[   0.,  491.,  287., ...,  396.,  225.,  231.],\n",
       "       [ 491.,    0.,  153., ...,  237.,  163.,  129.],\n",
       "       [ 287.,  153.,    0., ...,  125.,  124.,   63.],\n",
       "       ..., \n",
       "       [ 396.,  237.,  125., ...,    0.,  167.,  187.],\n",
       "       [ 225.,  163.,  124., ...,  167.,    0.,   99.],\n",
       "       [ 231.,  129.,   63., ...,  187.,   99.,    0.]])"
      ]
     },
     "execution_count": 48,
     "metadata": {},
     "output_type": "execute_result"
    }
   ],
   "source": [
    "tongxian_array"
   ]
  },
  {
   "cell_type": "code",
   "execution_count": 51,
   "metadata": {
    "collapsed": true
   },
   "outputs": [],
   "source": [
    "#获取评分矩阵\n",
    "# 以用户 1 为例\n",
    "rating_1 = np.zeros(3707)\n",
    "for i in userDict['1']:\n",
    "    rating_1[int(i[0])] = i[1]"
   ]
  },
  {
   "cell_type": "code",
   "execution_count": 54,
   "metadata": {},
   "outputs": [],
   "source": [
    "rating1 = rating_1[1:]"
   ]
  },
  {
   "cell_type": "code",
   "execution_count": 55,
   "metadata": {},
   "outputs": [
    {
     "data": {
      "text/plain": [
       "(3706,)"
      ]
     },
     "execution_count": 55,
     "metadata": {},
     "output_type": "execute_result"
    }
   ],
   "source": [
    "rating1.shape"
   ]
  },
  {
   "cell_type": "code",
   "execution_count": 62,
   "metadata": {
    "collapsed": true
   },
   "outputs": [],
   "source": [
    "movie1_to_other  = np.dot(tongxian_array,rating1)"
   ]
  },
  {
   "cell_type": "code",
   "execution_count": 63,
   "metadata": {},
   "outputs": [],
   "source": [
    "index = np.argsort(movie1_to_other)"
   ]
  },
  {
   "cell_type": "code",
   "execution_count": 64,
   "metadata": {},
   "outputs": [
    {
     "data": {
      "text/plain": [
       "array([ 692,  767, 1696, 1697, 1699, 1071, 1704, 2318, 1705, 1707], dtype=int64)"
      ]
     },
     "execution_count": 64,
     "metadata": {},
     "output_type": "execute_result"
    }
   ],
   "source": [
    "index[:10]"
   ]
  },
  {
   "cell_type": "code",
   "execution_count": null,
   "metadata": {
    "collapsed": true
   },
   "outputs": [],
   "source": []
  }
 ],
 "metadata": {
  "kernelspec": {
   "display_name": "tensorflow",
   "language": "python",
   "name": "tensorflow"
  },
  "language_info": {
   "codemirror_mode": {
    "name": "ipython",
    "version": 3
   },
   "file_extension": ".py",
   "mimetype": "text/x-python",
   "name": "python",
   "nbconvert_exporter": "python",
   "pygments_lexer": "ipython3",
   "version": "3.6.2"
  }
 },
 "nbformat": 4,
 "nbformat_minor": 2
}
